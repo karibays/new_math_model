{
 "cells": [
  {
   "cell_type": "code",
   "execution_count": 1,
   "id": "7d152321",
   "metadata": {},
   "outputs": [],
   "source": [
    "import pandas as pd\n",
    "import numpy as np\n",
    "from datetime import datetime, timedelta\n",
    "from itertools import product\n",
    "import requests\n",
    "from bs4 import BeautifulSoup\n",
    "import os"
   ]
  },
  {
   "cell_type": "markdown",
   "id": "ce87b9d3",
   "metadata": {},
   "source": [
    "### PRODUCTS EXPIRATION DATA"
   ]
  },
  {
   "cell_type": "code",
   "execution_count": 2,
   "id": "13754b7c",
   "metadata": {},
   "outputs": [],
   "source": [
    "# products and their expiration dates\n",
    "expiration = {\n",
    "    2: [\n",
    "        '01. Сэндвич \"Классический\"', \n",
    "        '02. Сэндвич \"С курицей\"',\n",
    "        '03. Сэндвич Сырный Соус',\n",
    "        '04. Сэндвич \"PICNIC\"',\n",
    "        '06. Хот - Дог',\n",
    "        '08. Гамбургер с котлетой',\n",
    "        '29. Burrito стрипсы'\n",
    "        ],\n",
    "\n",
    "    3: [\n",
    "        '16. Багет пшенично-ржаной',\n",
    "        '15. Багет пшеничный',\n",
    "        '21. Тостовый хлеб',\n",
    "        '23. Батон нарезной',\n",
    "        '43. Батон к чаю',\n",
    "        '44. Батон отрубной',\n",
    "        \"45. Батон ''Царский''\"\n",
    "        ],\n",
    "\n",
    "    5: [\n",
    "        '10. Булочка Ярославка',\n",
    "        '59. Булочки для фуда БУРГЕР',\n",
    "        '60. Булочки для фуда Хот-Дог',\n",
    "        '18. Лаваш',\n",
    "        '17. Ролл',\n",
    "        \"42. Батон ''Живая Рожь''\"\n",
    "        ]\n",
    "}"
   ]
  },
  {
   "cell_type": "markdown",
   "id": "06969ca4",
   "metadata": {},
   "source": [
    "### ADD NEW DATA TO MAIN DATASET"
   ]
  },
  {
   "cell_type": "code",
   "execution_count": 3,
   "id": "e918708f",
   "metadata": {},
   "outputs": [],
   "source": [
    "def add_new_data_to_initial_dataset():\n",
    "    # reading data\n",
    "    initial_DF = pd.read_csv('dataset/initial_dataset.csv')\n",
    "    print(initial_DF.shape)\n",
    "    temp_df = pd.read_excel('temp/data.xlsx', skipfooter=3)\n",
    "    \n",
    "    # renaming columns\n",
    "    temp_df.rename({\n",
    "        'Дата.1': 'Date',\n",
    "        'Маршрут': 'District',\n",
    "        'Контрагент': 'Address',\n",
    "        'Номенклатура': 'Product',\n",
    "        'Количество': 'Sales',\n",
    "        'Обмен': 'Returns'\n",
    "    }, axis=1, inplace=True)\n",
    "    \n",
    "    # concating new and old data\n",
    "    df = pd.concat([initial_DF, temp_df])\n",
    "    \n",
    "    # converting a date columns to datetime\n",
    "    df['Date'] = pd.to_datetime(df['Date'])\n",
    "    \n",
    "    # sorting data by date\n",
    "    df = df.sort_values('Date').reset_index(drop=True).drop_duplicates()\n",
    "    \n",
    "    # deleting unnecessary data according to date limit\n",
    "    date_limit = df['Date'].iloc[-1] - timedelta(weeks=5)\n",
    "    df = df[df['Date'] >= date_limit]\n",
    "    \n",
    "    print(df.shape)\n",
    "    df.to_csv('dataset/initial_dataset.csv', index=False)"
   ]
  },
  {
   "cell_type": "markdown",
   "id": "7e87c37f",
   "metadata": {},
   "source": [
    "### SHIFTING RETURNS"
   ]
  },
  {
   "cell_type": "code",
   "execution_count": 4,
   "id": "0b8fa866",
   "metadata": {},
   "outputs": [],
   "source": [
    "def shifting_returns_and_merging_with_sales(initial_DF, days_to_shift):\n",
    "    if days_to_shift not in [2, 3, 5]:\n",
    "        return\n",
    "    \n",
    "    # reading data\n",
    "    initial_DF['Date'] = pd.to_datetime(initial_DF['Date'])\n",
    "    \n",
    "    # filtering data by products\n",
    "    df = initial_DF[initial_DF['Product'].isin(expiration[days_to_shift])]\n",
    "    \n",
    "    # seperating sales and returns\n",
    "    df_sales = df.drop(['Returns'], axis=1)\n",
    "    df_returns = df.drop(['Sales'], axis=1)\n",
    "    \n",
    "    # shifting date \n",
    "    df_returns['Date'] = df_returns['Date'] - timedelta(days=days_to_shift)\n",
    "    \n",
    "    # getting date range of a final df\n",
    "    date_range = df_sales.merge(\n",
    "        df_returns,\n",
    "        on=['Date', 'District', 'Address', 'Product'],\n",
    "        how='inner'\n",
    "    )['Date'].unique()\n",
    "    \n",
    "    # merging sales and returns\n",
    "    main_DF = df_sales.merge(\n",
    "        df_returns,\n",
    "        on=['Date', 'District', 'Address', 'Product'],\n",
    "        how='outer'\n",
    "    )\n",
    "    \n",
    "    # final data\n",
    "    main_DF = main_DF[main_DF['Date'].isin(date_range)].fillna(0)\n",
    "\n",
    "    return main_DF"
   ]
  },
  {
   "cell_type": "code",
   "execution_count": 5,
   "id": "7a854872",
   "metadata": {},
   "outputs": [],
   "source": [
    "# getting 3 seperate DFs of 3 groups of products with shifted returns\n",
    "initial_DF = pd.read_csv('dataset/initial_dataset.csv')\n",
    "\n",
    "two_days_expiricy_DF = shifting_returns_and_merging_with_sales(initial_DF, days_to_shift=2)\n",
    "three_days_expiricy_DF = shifting_returns_and_merging_with_sales(initial_DF, days_to_shift=3)\n",
    "five_days_expiricy_DF = shifting_returns_and_merging_with_sales(initial_DF, days_to_shift=5)"
   ]
  },
  {
   "cell_type": "markdown",
   "id": "cd110122",
   "metadata": {},
   "source": [
    "### FILL MISSED ADDRESSES"
   ]
  },
  {
   "cell_type": "code",
   "execution_count": 6,
   "id": "cc1ea671",
   "metadata": {},
   "outputs": [],
   "source": [
    "combined_DF = pd.concat([two_days_expiricy_DF, three_days_expiricy_DF, five_days_expiricy_DF])\n",
    "combined_DF.sort_values('Date', inplace=True)"
   ]
  },
  {
   "cell_type": "code",
   "execution_count": 7,
   "id": "331a6664",
   "metadata": {},
   "outputs": [],
   "source": [
    "limit_date_to_get_data_about_stores = combined_DF['Date'].iloc[-1] - timedelta(weeks=2)\n",
    "condition = (combined_DF['Date'] >= limit_date_to_get_data_about_stores)"
   ]
  },
  {
   "cell_type": "code",
   "execution_count": 8,
   "id": "ff4d3256",
   "metadata": {},
   "outputs": [
    {
     "data": {
      "text/plain": [
       "(2399, 20)"
      ]
     },
     "execution_count": 8,
     "metadata": {},
     "output_type": "execute_result"
    }
   ],
   "source": [
    "all_addresses = combined_DF[condition]['Address'].unique()\n",
    "all_products = combined_DF[condition]['Product'].unique()\n",
    "\n",
    "len(all_addresses), len(all_products)"
   ]
  },
  {
   "cell_type": "code",
   "execution_count": 9,
   "id": "15291b05",
   "metadata": {},
   "outputs": [],
   "source": [
    "start_date = combined_DF.iloc[0]['Date']\n",
    "end_date = combined_DF.iloc[-1]['Date'] + timedelta(weeks=1)"
   ]
  },
  {
   "cell_type": "code",
   "execution_count": 10,
   "id": "dd90480a",
   "metadata": {},
   "outputs": [],
   "source": [
    "data = []\n",
    "\n",
    "# Наполняем список комбиниациями\n",
    "current_date = start_date\n",
    "while current_date <= end_date:\n",
    "    combinations = list(product(all_products, all_addresses))\n",
    "    data.extend([(current_date, address, product) for product, address in combinations])\n",
    "    current_date += timedelta(days=1)\n",
    "    \n",
    "full_DF = pd.DataFrame(data, columns=[\"Date\", \"Address\", \"Product\"])"
   ]
  },
  {
   "cell_type": "code",
   "execution_count": 11,
   "id": "13fd5817",
   "metadata": {},
   "outputs": [],
   "source": [
    "# Добавляем колонну продаж и возвратов\n",
    "full_DF['Sales'] = 0\n",
    "full_DF['Returns'] = 0\n",
    "\n",
    "# Далем слияние двух таблиц, чтобы продажи и возвраты встали на место.\n",
    "main_DF = full_DF[['Date', 'Address', 'Product']].merge(\n",
    "    combined_DF[['Date', 'Address', 'Product', 'Sales', 'Returns']], \n",
    "    on=['Date', 'Address', 'Product'], \n",
    "    how='left'\n",
    ")\n",
    "\n",
    "# Заполняем 'null' нулями\n",
    "main_DF = main_DF.fillna(0)"
   ]
  },
  {
   "cell_type": "markdown",
   "id": "d132af44",
   "metadata": {},
   "source": [
    "### DELETING ADDRESS-PRODUCT COMBINATIONS THAT ARE NOT RELEVANT"
   ]
  },
  {
   "cell_type": "code",
   "execution_count": 12,
   "id": "ed5d1b9d",
   "metadata": {},
   "outputs": [],
   "source": [
    "limit_date_to_get_data_about_store_sales = main_DF.sort_values('Date')['Date'].iloc[-1] - timedelta(weeks=2)\n",
    "condition = (main_DF['Date'] >= limit_date_to_get_data_about_store_sales)"
   ]
  },
  {
   "cell_type": "code",
   "execution_count": 13,
   "id": "46920191",
   "metadata": {},
   "outputs": [],
   "source": [
    "grouped_add_prod_sales_DF = main_DF[condition].groupby(['Address', 'Product']).agg({\n",
    "    'Sales': 'sum'\n",
    "}).reset_index()"
   ]
  },
  {
   "cell_type": "code",
   "execution_count": 14,
   "id": "ce8c1200",
   "metadata": {},
   "outputs": [],
   "source": [
    "existing_address_product_combinations_DF = grouped_add_prod_sales_DF[grouped_add_prod_sales_DF['Sales'] > 0].drop('Sales', axis=1)"
   ]
  },
  {
   "cell_type": "code",
   "execution_count": 15,
   "id": "b535e1f4",
   "metadata": {},
   "outputs": [
    {
     "data": {
      "text/plain": [
       "(27245, 2)"
      ]
     },
     "execution_count": 15,
     "metadata": {},
     "output_type": "execute_result"
    }
   ],
   "source": [
    "existing_address_product_combinations_DF.shape"
   ]
  },
  {
   "cell_type": "code",
   "execution_count": 16,
   "id": "516dbafd",
   "metadata": {},
   "outputs": [],
   "source": [
    "main_DF = main_DF.merge(existing_address_product_combinations_DF,\n",
    "             on=['Address', 'Product'])"
   ]
  },
  {
   "cell_type": "markdown",
   "id": "2c71e409",
   "metadata": {},
   "source": [
    "### REMOVE SUNDAYS"
   ]
  },
  {
   "cell_type": "code",
   "execution_count": 17,
   "id": "567e57a7",
   "metadata": {},
   "outputs": [
    {
     "data": {
      "text/plain": [
       "(1117489, 5)"
      ]
     },
     "execution_count": 17,
     "metadata": {},
     "output_type": "execute_result"
    }
   ],
   "source": [
    "main_DF.shape"
   ]
  },
  {
   "cell_type": "code",
   "execution_count": 18,
   "id": "1c3abd98",
   "metadata": {},
   "outputs": [],
   "source": [
    "main_DF['Weekday'] = main_DF['Date'].dt.weekday\n",
    "main_DF = main_DF[main_DF['Weekday'] != 6]"
   ]
  },
  {
   "cell_type": "code",
   "execution_count": 19,
   "id": "8ce7fcdf",
   "metadata": {},
   "outputs": [
    {
     "data": {
      "text/plain": [
       "(954019, 6)"
      ]
     },
     "execution_count": 19,
     "metadata": {},
     "output_type": "execute_result"
    }
   ],
   "source": [
    "main_DF.shape"
   ]
  },
  {
   "cell_type": "markdown",
   "id": "6cfcfd52",
   "metadata": {},
   "source": [
    "### SHIFTING SALES AND RETURNS"
   ]
  },
  {
   "cell_type": "code",
   "execution_count": 20,
   "id": "7d7c3c27",
   "metadata": {},
   "outputs": [],
   "source": [
    "main_DF.sort_values(by=['Address', 'Product', 'Date'], inplace=True)"
   ]
  },
  {
   "cell_type": "code",
   "execution_count": 21,
   "id": "fee83e9b",
   "metadata": {},
   "outputs": [],
   "source": [
    "days_to_shift = [1, 2, 3, 4, 5, 6, 13, 20]\n",
    "for day in days_to_shift:\n",
    "    main_DF[f'Sales_{day + 1}'] = main_DF.groupby(['Address', 'Product'])['Sales'].shift(day)\n",
    "    main_DF[f'Returns_{day + 1}'] = main_DF.groupby(['Address', 'Product'])['Returns'].shift(day)"
   ]
  },
  {
   "cell_type": "code",
   "execution_count": 22,
   "id": "f112f863",
   "metadata": {},
   "outputs": [],
   "source": [
    "main_DF.fillna(0, inplace=True)"
   ]
  },
  {
   "cell_type": "code",
   "execution_count": 23,
   "id": "5dee344a",
   "metadata": {},
   "outputs": [
    {
     "name": "stderr",
     "output_type": "stream",
     "text": [
      "C:\\Users\\A48\\AppData\\Local\\Temp\\ipykernel_22768\\2067784244.py:1: FutureWarning: Indexing with multiple keys (implicitly converted to a tuple of keys) will be deprecated, use a list instead.\n",
      "  main_DF.groupby(['Date'])['Sales', 'Sales_2', 'Sales_3', 'Sales_4', 'Sales_5', 'Sales_6', 'Sales_14', 'Sales_21'].sum()\n"
     ]
    },
    {
     "data": {
      "text/html": [
       "<div>\n",
       "<style scoped>\n",
       "    .dataframe tbody tr th:only-of-type {\n",
       "        vertical-align: middle;\n",
       "    }\n",
       "\n",
       "    .dataframe tbody tr th {\n",
       "        vertical-align: top;\n",
       "    }\n",
       "\n",
       "    .dataframe thead th {\n",
       "        text-align: right;\n",
       "    }\n",
       "</style>\n",
       "<table border=\"1\" class=\"dataframe\">\n",
       "  <thead>\n",
       "    <tr style=\"text-align: right;\">\n",
       "      <th></th>\n",
       "      <th>Sales</th>\n",
       "      <th>Sales_2</th>\n",
       "      <th>Sales_3</th>\n",
       "      <th>Sales_4</th>\n",
       "      <th>Sales_5</th>\n",
       "      <th>Sales_6</th>\n",
       "      <th>Sales_14</th>\n",
       "      <th>Sales_21</th>\n",
       "    </tr>\n",
       "    <tr>\n",
       "      <th>Date</th>\n",
       "      <th></th>\n",
       "      <th></th>\n",
       "      <th></th>\n",
       "      <th></th>\n",
       "      <th></th>\n",
       "      <th></th>\n",
       "      <th></th>\n",
       "      <th></th>\n",
       "    </tr>\n",
       "  </thead>\n",
       "  <tbody>\n",
       "    <tr>\n",
       "      <th>2024-07-03</th>\n",
       "      <td>46474.0</td>\n",
       "      <td>127.0</td>\n",
       "      <td>0.0</td>\n",
       "      <td>0.0</td>\n",
       "      <td>0.0</td>\n",
       "      <td>0.0</td>\n",
       "      <td>0.0</td>\n",
       "      <td>0.0</td>\n",
       "    </tr>\n",
       "    <tr>\n",
       "      <th>2024-07-04</th>\n",
       "      <td>41634.0</td>\n",
       "      <td>46427.0</td>\n",
       "      <td>168.0</td>\n",
       "      <td>117.0</td>\n",
       "      <td>0.0</td>\n",
       "      <td>0.0</td>\n",
       "      <td>0.0</td>\n",
       "      <td>0.0</td>\n",
       "    </tr>\n",
       "    <tr>\n",
       "      <th>2024-07-05</th>\n",
       "      <td>9126.0</td>\n",
       "      <td>41562.0</td>\n",
       "      <td>46416.0</td>\n",
       "      <td>74.0</td>\n",
       "      <td>134.0</td>\n",
       "      <td>0.0</td>\n",
       "      <td>0.0</td>\n",
       "      <td>0.0</td>\n",
       "    </tr>\n",
       "    <tr>\n",
       "      <th>2024-07-06</th>\n",
       "      <td>58984.0</td>\n",
       "      <td>9316.0</td>\n",
       "      <td>41567.0</td>\n",
       "      <td>46501.0</td>\n",
       "      <td>164.0</td>\n",
       "      <td>189.0</td>\n",
       "      <td>0.0</td>\n",
       "      <td>0.0</td>\n",
       "    </tr>\n",
       "    <tr>\n",
       "      <th>2024-07-08</th>\n",
       "      <td>46371.0</td>\n",
       "      <td>58967.0</td>\n",
       "      <td>9458.0</td>\n",
       "      <td>41663.0</td>\n",
       "      <td>46430.0</td>\n",
       "      <td>230.0</td>\n",
       "      <td>0.0</td>\n",
       "      <td>0.0</td>\n",
       "    </tr>\n",
       "    <tr>\n",
       "      <th>2024-07-09</th>\n",
       "      <td>48422.0</td>\n",
       "      <td>46272.0</td>\n",
       "      <td>58874.0</td>\n",
       "      <td>9391.0</td>\n",
       "      <td>41796.0</td>\n",
       "      <td>46487.0</td>\n",
       "      <td>0.0</td>\n",
       "      <td>0.0</td>\n",
       "    </tr>\n",
       "    <tr>\n",
       "      <th>2024-07-10</th>\n",
       "      <td>50521.0</td>\n",
       "      <td>48599.0</td>\n",
       "      <td>46346.0</td>\n",
       "      <td>58834.0</td>\n",
       "      <td>9342.0</td>\n",
       "      <td>41755.0</td>\n",
       "      <td>0.0</td>\n",
       "      <td>0.0</td>\n",
       "    </tr>\n",
       "    <tr>\n",
       "      <th>2024-07-11</th>\n",
       "      <td>42503.0</td>\n",
       "      <td>50288.0</td>\n",
       "      <td>48482.0</td>\n",
       "      <td>46467.0</td>\n",
       "      <td>58854.0</td>\n",
       "      <td>9293.0</td>\n",
       "      <td>159.0</td>\n",
       "      <td>0.0</td>\n",
       "    </tr>\n",
       "    <tr>\n",
       "      <th>2024-07-12</th>\n",
       "      <td>9012.0</td>\n",
       "      <td>42483.0</td>\n",
       "      <td>50255.0</td>\n",
       "      <td>48285.0</td>\n",
       "      <td>46359.0</td>\n",
       "      <td>58807.0</td>\n",
       "      <td>124.0</td>\n",
       "      <td>0.0</td>\n",
       "    </tr>\n",
       "    <tr>\n",
       "      <th>2024-07-13</th>\n",
       "      <td>57823.0</td>\n",
       "      <td>9241.0</td>\n",
       "      <td>42525.0</td>\n",
       "      <td>50354.0</td>\n",
       "      <td>48285.0</td>\n",
       "      <td>46382.0</td>\n",
       "      <td>140.0</td>\n",
       "      <td>0.0</td>\n",
       "    </tr>\n",
       "    <tr>\n",
       "      <th>2024-07-15</th>\n",
       "      <td>57607.0</td>\n",
       "      <td>57859.0</td>\n",
       "      <td>9271.0</td>\n",
       "      <td>42639.0</td>\n",
       "      <td>50369.0</td>\n",
       "      <td>48341.0</td>\n",
       "      <td>396.0</td>\n",
       "      <td>0.0</td>\n",
       "    </tr>\n",
       "    <tr>\n",
       "      <th>2024-07-16</th>\n",
       "      <td>45156.0</td>\n",
       "      <td>57370.0</td>\n",
       "      <td>57905.0</td>\n",
       "      <td>9299.0</td>\n",
       "      <td>42637.0</td>\n",
       "      <td>50472.0</td>\n",
       "      <td>245.0</td>\n",
       "      <td>163.0</td>\n",
       "    </tr>\n",
       "    <tr>\n",
       "      <th>2024-07-17</th>\n",
       "      <td>49651.0</td>\n",
       "      <td>45311.0</td>\n",
       "      <td>57463.0</td>\n",
       "      <td>57701.0</td>\n",
       "      <td>9388.0</td>\n",
       "      <td>42703.0</td>\n",
       "      <td>260.0</td>\n",
       "      <td>217.0</td>\n",
       "    </tr>\n",
       "    <tr>\n",
       "      <th>2024-07-18</th>\n",
       "      <td>42538.0</td>\n",
       "      <td>49654.0</td>\n",
       "      <td>45164.0</td>\n",
       "      <td>57582.0</td>\n",
       "      <td>57742.0</td>\n",
       "      <td>9142.0</td>\n",
       "      <td>46544.0</td>\n",
       "      <td>193.0</td>\n",
       "    </tr>\n",
       "    <tr>\n",
       "      <th>2024-07-19</th>\n",
       "      <td>9064.0</td>\n",
       "      <td>42365.0</td>\n",
       "      <td>49594.0</td>\n",
       "      <td>45031.0</td>\n",
       "      <td>57427.0</td>\n",
       "      <td>57735.0</td>\n",
       "      <td>41512.0</td>\n",
       "      <td>230.0</td>\n",
       "    </tr>\n",
       "    <tr>\n",
       "      <th>2024-07-20</th>\n",
       "      <td>57033.0</td>\n",
       "      <td>9146.0</td>\n",
       "      <td>42376.0</td>\n",
       "      <td>49632.0</td>\n",
       "      <td>45199.0</td>\n",
       "      <td>57495.0</td>\n",
       "      <td>9233.0</td>\n",
       "      <td>251.0</td>\n",
       "    </tr>\n",
       "    <tr>\n",
       "      <th>2024-07-22</th>\n",
       "      <td>60130.0</td>\n",
       "      <td>57042.0</td>\n",
       "      <td>9295.0</td>\n",
       "      <td>42394.0</td>\n",
       "      <td>49477.0</td>\n",
       "      <td>45182.0</td>\n",
       "      <td>58937.0</td>\n",
       "      <td>263.0</td>\n",
       "    </tr>\n",
       "    <tr>\n",
       "      <th>2024-07-23</th>\n",
       "      <td>48261.0</td>\n",
       "      <td>60067.0</td>\n",
       "      <td>57121.0</td>\n",
       "      <td>9292.0</td>\n",
       "      <td>42524.0</td>\n",
       "      <td>49483.0</td>\n",
       "      <td>46522.0</td>\n",
       "      <td>289.0</td>\n",
       "    </tr>\n",
       "    <tr>\n",
       "      <th>2024-07-24</th>\n",
       "      <td>51622.0</td>\n",
       "      <td>48419.0</td>\n",
       "      <td>60050.0</td>\n",
       "      <td>57100.0</td>\n",
       "      <td>9393.0</td>\n",
       "      <td>42539.0</td>\n",
       "      <td>48440.0</td>\n",
       "      <td>180.0</td>\n",
       "    </tr>\n",
       "    <tr>\n",
       "      <th>2024-07-25</th>\n",
       "      <td>40389.0</td>\n",
       "      <td>51576.0</td>\n",
       "      <td>48291.0</td>\n",
       "      <td>60150.0</td>\n",
       "      <td>57060.0</td>\n",
       "      <td>9312.0</td>\n",
       "      <td>50447.0</td>\n",
       "      <td>267.0</td>\n",
       "    </tr>\n",
       "    <tr>\n",
       "      <th>2024-07-26</th>\n",
       "      <td>9427.0</td>\n",
       "      <td>40272.0</td>\n",
       "      <td>51488.0</td>\n",
       "      <td>48143.0</td>\n",
       "      <td>59946.0</td>\n",
       "      <td>57048.0</td>\n",
       "      <td>42604.0</td>\n",
       "      <td>46365.0</td>\n",
       "    </tr>\n",
       "    <tr>\n",
       "      <th>2024-07-27</th>\n",
       "      <td>58340.0</td>\n",
       "      <td>9585.0</td>\n",
       "      <td>40259.0</td>\n",
       "      <td>51508.0</td>\n",
       "      <td>48304.0</td>\n",
       "      <td>60061.0</td>\n",
       "      <td>9080.0</td>\n",
       "      <td>41863.0</td>\n",
       "    </tr>\n",
       "    <tr>\n",
       "      <th>2024-07-29</th>\n",
       "      <td>61881.0</td>\n",
       "      <td>58458.0</td>\n",
       "      <td>9634.0</td>\n",
       "      <td>40421.0</td>\n",
       "      <td>51349.0</td>\n",
       "      <td>48232.0</td>\n",
       "      <td>57783.0</td>\n",
       "      <td>9341.0</td>\n",
       "    </tr>\n",
       "    <tr>\n",
       "      <th>2024-07-30</th>\n",
       "      <td>48976.0</td>\n",
       "      <td>61642.0</td>\n",
       "      <td>58481.0</td>\n",
       "      <td>9727.0</td>\n",
       "      <td>40442.0</td>\n",
       "      <td>51491.0</td>\n",
       "      <td>57542.0</td>\n",
       "      <td>58881.0</td>\n",
       "    </tr>\n",
       "    <tr>\n",
       "      <th>2024-07-31</th>\n",
       "      <td>54369.0</td>\n",
       "      <td>48942.0</td>\n",
       "      <td>61657.0</td>\n",
       "      <td>58280.0</td>\n",
       "      <td>9769.0</td>\n",
       "      <td>40538.0</td>\n",
       "      <td>45195.0</td>\n",
       "      <td>46392.0</td>\n",
       "    </tr>\n",
       "    <tr>\n",
       "      <th>2024-08-01</th>\n",
       "      <td>41408.0</td>\n",
       "      <td>54350.0</td>\n",
       "      <td>48898.0</td>\n",
       "      <td>61592.0</td>\n",
       "      <td>58283.0</td>\n",
       "      <td>9564.0</td>\n",
       "      <td>49670.0</td>\n",
       "      <td>48314.0</td>\n",
       "    </tr>\n",
       "    <tr>\n",
       "      <th>2024-08-02</th>\n",
       "      <td>10751.0</td>\n",
       "      <td>41412.0</td>\n",
       "      <td>54312.0</td>\n",
       "      <td>48871.0</td>\n",
       "      <td>61523.0</td>\n",
       "      <td>58204.0</td>\n",
       "      <td>42466.0</td>\n",
       "      <td>50396.0</td>\n",
       "    </tr>\n",
       "    <tr>\n",
       "      <th>2024-08-03</th>\n",
       "      <td>53106.0</td>\n",
       "      <td>10760.0</td>\n",
       "      <td>41416.0</td>\n",
       "      <td>54420.0</td>\n",
       "      <td>48878.0</td>\n",
       "      <td>61555.0</td>\n",
       "      <td>9101.0</td>\n",
       "      <td>42707.0</td>\n",
       "    </tr>\n",
       "    <tr>\n",
       "      <th>2024-08-05</th>\n",
       "      <td>49262.0</td>\n",
       "      <td>53141.0</td>\n",
       "      <td>11011.0</td>\n",
       "      <td>41315.0</td>\n",
       "      <td>54394.0</td>\n",
       "      <td>48932.0</td>\n",
       "      <td>57013.0</td>\n",
       "      <td>9231.0</td>\n",
       "    </tr>\n",
       "    <tr>\n",
       "      <th>2024-08-06</th>\n",
       "      <td>0.0</td>\n",
       "      <td>49188.0</td>\n",
       "      <td>52876.0</td>\n",
       "      <td>10994.0</td>\n",
       "      <td>41315.0</td>\n",
       "      <td>54296.0</td>\n",
       "      <td>60016.0</td>\n",
       "      <td>57708.0</td>\n",
       "    </tr>\n",
       "    <tr>\n",
       "      <th>2024-08-07</th>\n",
       "      <td>0.0</td>\n",
       "      <td>0.0</td>\n",
       "      <td>49188.0</td>\n",
       "      <td>52876.0</td>\n",
       "      <td>10994.0</td>\n",
       "      <td>41315.0</td>\n",
       "      <td>48091.0</td>\n",
       "      <td>57313.0</td>\n",
       "    </tr>\n",
       "    <tr>\n",
       "      <th>2024-08-08</th>\n",
       "      <td>0.0</td>\n",
       "      <td>0.0</td>\n",
       "      <td>0.0</td>\n",
       "      <td>49188.0</td>\n",
       "      <td>52876.0</td>\n",
       "      <td>10994.0</td>\n",
       "      <td>51372.0</td>\n",
       "      <td>45081.0</td>\n",
       "    </tr>\n",
       "    <tr>\n",
       "      <th>2024-08-09</th>\n",
       "      <td>0.0</td>\n",
       "      <td>0.0</td>\n",
       "      <td>0.0</td>\n",
       "      <td>0.0</td>\n",
       "      <td>49188.0</td>\n",
       "      <td>52876.0</td>\n",
       "      <td>40321.0</td>\n",
       "      <td>49408.0</td>\n",
       "    </tr>\n",
       "    <tr>\n",
       "      <th>2024-08-10</th>\n",
       "      <td>0.0</td>\n",
       "      <td>0.0</td>\n",
       "      <td>0.0</td>\n",
       "      <td>0.0</td>\n",
       "      <td>0.0</td>\n",
       "      <td>49188.0</td>\n",
       "      <td>9421.0</td>\n",
       "      <td>42305.0</td>\n",
       "    </tr>\n",
       "    <tr>\n",
       "      <th>2024-08-12</th>\n",
       "      <td>0.0</td>\n",
       "      <td>0.0</td>\n",
       "      <td>0.0</td>\n",
       "      <td>0.0</td>\n",
       "      <td>0.0</td>\n",
       "      <td>0.0</td>\n",
       "      <td>58139.0</td>\n",
       "      <td>9227.0</td>\n",
       "    </tr>\n",
       "  </tbody>\n",
       "</table>\n",
       "</div>"
      ],
      "text/plain": [
       "              Sales  Sales_2  Sales_3  Sales_4  Sales_5  Sales_6  Sales_14  \\\n",
       "Date                                                                         \n",
       "2024-07-03  46474.0    127.0      0.0      0.0      0.0      0.0       0.0   \n",
       "2024-07-04  41634.0  46427.0    168.0    117.0      0.0      0.0       0.0   \n",
       "2024-07-05   9126.0  41562.0  46416.0     74.0    134.0      0.0       0.0   \n",
       "2024-07-06  58984.0   9316.0  41567.0  46501.0    164.0    189.0       0.0   \n",
       "2024-07-08  46371.0  58967.0   9458.0  41663.0  46430.0    230.0       0.0   \n",
       "2024-07-09  48422.0  46272.0  58874.0   9391.0  41796.0  46487.0       0.0   \n",
       "2024-07-10  50521.0  48599.0  46346.0  58834.0   9342.0  41755.0       0.0   \n",
       "2024-07-11  42503.0  50288.0  48482.0  46467.0  58854.0   9293.0     159.0   \n",
       "2024-07-12   9012.0  42483.0  50255.0  48285.0  46359.0  58807.0     124.0   \n",
       "2024-07-13  57823.0   9241.0  42525.0  50354.0  48285.0  46382.0     140.0   \n",
       "2024-07-15  57607.0  57859.0   9271.0  42639.0  50369.0  48341.0     396.0   \n",
       "2024-07-16  45156.0  57370.0  57905.0   9299.0  42637.0  50472.0     245.0   \n",
       "2024-07-17  49651.0  45311.0  57463.0  57701.0   9388.0  42703.0     260.0   \n",
       "2024-07-18  42538.0  49654.0  45164.0  57582.0  57742.0   9142.0   46544.0   \n",
       "2024-07-19   9064.0  42365.0  49594.0  45031.0  57427.0  57735.0   41512.0   \n",
       "2024-07-20  57033.0   9146.0  42376.0  49632.0  45199.0  57495.0    9233.0   \n",
       "2024-07-22  60130.0  57042.0   9295.0  42394.0  49477.0  45182.0   58937.0   \n",
       "2024-07-23  48261.0  60067.0  57121.0   9292.0  42524.0  49483.0   46522.0   \n",
       "2024-07-24  51622.0  48419.0  60050.0  57100.0   9393.0  42539.0   48440.0   \n",
       "2024-07-25  40389.0  51576.0  48291.0  60150.0  57060.0   9312.0   50447.0   \n",
       "2024-07-26   9427.0  40272.0  51488.0  48143.0  59946.0  57048.0   42604.0   \n",
       "2024-07-27  58340.0   9585.0  40259.0  51508.0  48304.0  60061.0    9080.0   \n",
       "2024-07-29  61881.0  58458.0   9634.0  40421.0  51349.0  48232.0   57783.0   \n",
       "2024-07-30  48976.0  61642.0  58481.0   9727.0  40442.0  51491.0   57542.0   \n",
       "2024-07-31  54369.0  48942.0  61657.0  58280.0   9769.0  40538.0   45195.0   \n",
       "2024-08-01  41408.0  54350.0  48898.0  61592.0  58283.0   9564.0   49670.0   \n",
       "2024-08-02  10751.0  41412.0  54312.0  48871.0  61523.0  58204.0   42466.0   \n",
       "2024-08-03  53106.0  10760.0  41416.0  54420.0  48878.0  61555.0    9101.0   \n",
       "2024-08-05  49262.0  53141.0  11011.0  41315.0  54394.0  48932.0   57013.0   \n",
       "2024-08-06      0.0  49188.0  52876.0  10994.0  41315.0  54296.0   60016.0   \n",
       "2024-08-07      0.0      0.0  49188.0  52876.0  10994.0  41315.0   48091.0   \n",
       "2024-08-08      0.0      0.0      0.0  49188.0  52876.0  10994.0   51372.0   \n",
       "2024-08-09      0.0      0.0      0.0      0.0  49188.0  52876.0   40321.0   \n",
       "2024-08-10      0.0      0.0      0.0      0.0      0.0  49188.0    9421.0   \n",
       "2024-08-12      0.0      0.0      0.0      0.0      0.0      0.0   58139.0   \n",
       "\n",
       "            Sales_21  \n",
       "Date                  \n",
       "2024-07-03       0.0  \n",
       "2024-07-04       0.0  \n",
       "2024-07-05       0.0  \n",
       "2024-07-06       0.0  \n",
       "2024-07-08       0.0  \n",
       "2024-07-09       0.0  \n",
       "2024-07-10       0.0  \n",
       "2024-07-11       0.0  \n",
       "2024-07-12       0.0  \n",
       "2024-07-13       0.0  \n",
       "2024-07-15       0.0  \n",
       "2024-07-16     163.0  \n",
       "2024-07-17     217.0  \n",
       "2024-07-18     193.0  \n",
       "2024-07-19     230.0  \n",
       "2024-07-20     251.0  \n",
       "2024-07-22     263.0  \n",
       "2024-07-23     289.0  \n",
       "2024-07-24     180.0  \n",
       "2024-07-25     267.0  \n",
       "2024-07-26   46365.0  \n",
       "2024-07-27   41863.0  \n",
       "2024-07-29    9341.0  \n",
       "2024-07-30   58881.0  \n",
       "2024-07-31   46392.0  \n",
       "2024-08-01   48314.0  \n",
       "2024-08-02   50396.0  \n",
       "2024-08-03   42707.0  \n",
       "2024-08-05    9231.0  \n",
       "2024-08-06   57708.0  \n",
       "2024-08-07   57313.0  \n",
       "2024-08-08   45081.0  \n",
       "2024-08-09   49408.0  \n",
       "2024-08-10   42305.0  \n",
       "2024-08-12    9227.0  "
      ]
     },
     "execution_count": 23,
     "metadata": {},
     "output_type": "execute_result"
    }
   ],
   "source": [
    "main_DF.groupby(['Date'])['Sales', 'Sales_2', 'Sales_3', 'Sales_4', 'Sales_5', 'Sales_6', 'Sales_14', 'Sales_21'].sum()"
   ]
  },
  {
   "cell_type": "markdown",
   "id": "89cf64a6",
   "metadata": {},
   "source": [
    "### STATISTICS"
   ]
  },
  {
   "cell_type": "code",
   "execution_count": 24,
   "id": "6b0f4205",
   "metadata": {},
   "outputs": [
    {
     "name": "stdout",
     "output_type": "stream",
     "text": [
      "CPU times: total: 1.59 s\n",
      "Wall time: 1.64 s\n"
     ]
    }
   ],
   "source": [
    "%%time\n",
    "main_DF['Returns_percentage'] = main_DF['Returns_7'] / (main_DF['Sales_7'] + main_DF['Returns_7'])\n",
    "\n",
    "main_DF['Mean_sales_in_week'] = main_DF[['Sales_2', 'Sales_3', 'Sales_4', 'Sales_5', 'Sales_6', 'Sales_7']].mean(axis=1)\n",
    "main_DF['Median_sales_in_week'] = main_DF[['Sales_2', 'Sales_3', 'Sales_4', 'Sales_5', 'Sales_6', 'Sales_7']].median(axis=1)\n",
    "\n",
    "main_DF['Mean_sales_in_3_weeks'] = main_DF[['Sales_7', 'Sales_14', 'Sales_21']].mean(axis=1)\n",
    "main_DF['Median_sales_in_3_weeks'] = main_DF[['Sales_7', 'Sales_14', 'Sales_21']].median(axis=1)\n",
    "\n",
    "main_DF['No_sales_in_week'] = main_DF[['Sales_2', 'Sales_3', 'Sales_4', 'Sales_5', 'Sales_6', 'Sales_7']].sum(axis=1) == 0\n",
    "main_DF['No_returns_in_week'] = main_DF[['Returns_2', 'Returns_3', 'Returns_4', 'Returns_5', 'Returns_6', 'Returns_7',]].sum(axis=1) == 0\n",
    "\n",
    "main_DF['Total_sales_in_week'] = main_DF[['Sales_2', 'Sales_3', 'Sales_4', 'Sales_5', 'Sales_6', 'Sales_7']].sum(axis=1)\n",
    "\n",
    "main_DF['Mean_returns_in_week'] = main_DF[['Returns_2', 'Returns_3', 'Returns_4', 'Returns_5', 'Returns_6', 'Returns_7',]].mean(axis=1)\n",
    "main_DF['Mean_returns_in_3_weeks'] = main_DF[['Returns_7', 'Sales_14', 'Returns_21']].mean(axis=1)"
   ]
  },
  {
   "cell_type": "markdown",
   "id": "bd294046",
   "metadata": {},
   "source": [
    "### SET BACK DISTRICTS"
   ]
  },
  {
   "cell_type": "code",
   "execution_count": 25,
   "id": "39d78eee",
   "metadata": {},
   "outputs": [],
   "source": [
    "district_address_DF = combined_DF.sort_values('Date')[['District', 'Address']].drop_duplicates()"
   ]
  },
  {
   "cell_type": "code",
   "execution_count": 26,
   "id": "0aabe3e9",
   "metadata": {},
   "outputs": [],
   "source": [
    "district_address_DF = district_address_DF.drop_duplicates('Address', keep='last')"
   ]
  },
  {
   "cell_type": "code",
   "execution_count": 27,
   "id": "a93413d0",
   "metadata": {},
   "outputs": [
    {
     "data": {
      "text/plain": [
       "((2458,), (2458, 2))"
      ]
     },
     "execution_count": 27,
     "metadata": {},
     "output_type": "execute_result"
    }
   ],
   "source": [
    "district_address_DF['Address'].unique().shape, district_address_DF.shape"
   ]
  },
  {
   "cell_type": "code",
   "execution_count": 28,
   "id": "464042e6",
   "metadata": {},
   "outputs": [],
   "source": [
    "main_DF = main_DF.merge(district_address_DF, on='Address')"
   ]
  },
  {
   "cell_type": "code",
   "execution_count": 29,
   "id": "5aff88b4",
   "metadata": {},
   "outputs": [],
   "source": [
    "columns_order = list(main_DF.columns)\n",
    "columns_order.insert(1, columns_order.pop())"
   ]
  },
  {
   "cell_type": "code",
   "execution_count": 30,
   "id": "9d77b1e9",
   "metadata": {},
   "outputs": [],
   "source": [
    "main_DF = main_DF[columns_order]"
   ]
  },
  {
   "cell_type": "markdown",
   "id": "dac91936",
   "metadata": {},
   "source": [
    "### HANDLE SPECIAL ORDERS AND ANOMALIES"
   ]
  },
  {
   "cell_type": "code",
   "execution_count": 31,
   "id": "fd776594",
   "metadata": {},
   "outputs": [],
   "source": [
    "def isAnomaly(data):\n",
    "    # Calculate mean and standard deviation\n",
    "    mean = np.mean(data)\n",
    "    std_dev = np.std(data)\n",
    "\n",
    "    # Calculate quartiles and IQR\n",
    "    Q1 = np.percentile(data, 25)\n",
    "    Q3 = np.percentile(data, 75)\n",
    "    IQR = Q3 - Q1\n",
    "\n",
    "    # Calculate bounds for outliers using IQR\n",
    "    const = 2\n",
    "    lower_bound = Q1 - const * IQR\n",
    "    upper_bound = Q3 + const * IQR\n",
    "\n",
    "    iqr_anomalies = [x for x in data if x < lower_bound or x > upper_bound]\n",
    "    \n",
    "    return data['Sales_7'] in iqr_anomalies"
   ]
  },
  {
   "cell_type": "code",
   "execution_count": 32,
   "id": "9b26f2d7",
   "metadata": {},
   "outputs": [
    {
     "name": "stdout",
     "output_type": "stream",
     "text": [
      "CPU times: total: 4.75 s\n",
      "Wall time: 4.83 s\n"
     ]
    }
   ],
   "source": [
    "%%time\n",
    "main_DF['isAnomaly'] = False\n",
    "\n",
    "condition = main_DF['Sales_7'] > 10\n",
    "columns_to_check = ['Sales_2', 'Sales_3', 'Sales_4', 'Sales_5', 'Sales_6', 'Sales_7']\n",
    "\n",
    "\n",
    "main_DF.loc[condition,'isAnomaly'] = main_DF[condition][columns_to_check].apply(isAnomaly, axis=1)"
   ]
  },
  {
   "cell_type": "code",
   "execution_count": 33,
   "id": "2341b880",
   "metadata": {},
   "outputs": [
    {
     "data": {
      "text/plain": [
       "(2370,)"
      ]
     },
     "execution_count": 33,
     "metadata": {},
     "output_type": "execute_result"
    }
   ],
   "source": [
    "main_DF['Address'].unique().shape"
   ]
  },
  {
   "cell_type": "code",
   "execution_count": 34,
   "id": "8d926e4a",
   "metadata": {},
   "outputs": [
    {
     "data": {
      "text/plain": [
       "(1122,)"
      ]
     },
     "execution_count": 34,
     "metadata": {},
     "output_type": "execute_result"
    }
   ],
   "source": [
    "main_DF[main_DF['isAnomaly'] == True]['Address'].unique().shape"
   ]
  },
  {
   "cell_type": "code",
   "execution_count": 35,
   "id": "1f4be90f",
   "metadata": {},
   "outputs": [
    {
     "data": {
      "text/plain": [
       "False    951303\n",
       "True       2716\n",
       "Name: isAnomaly, dtype: int64"
      ]
     },
     "execution_count": 35,
     "metadata": {},
     "output_type": "execute_result"
    }
   ],
   "source": [
    "main_DF['isAnomaly'].value_counts()"
   ]
  },
  {
   "cell_type": "markdown",
   "id": "c53acf21",
   "metadata": {},
   "source": [
    "### PREDICT DATAFRAME"
   ]
  },
  {
   "cell_type": "code",
   "execution_count": 36,
   "id": "f994f67f",
   "metadata": {},
   "outputs": [
    {
     "data": {
      "text/html": [
       "<div>\n",
       "<style scoped>\n",
       "    .dataframe tbody tr th:only-of-type {\n",
       "        vertical-align: middle;\n",
       "    }\n",
       "\n",
       "    .dataframe tbody tr th {\n",
       "        vertical-align: top;\n",
       "    }\n",
       "\n",
       "    .dataframe thead th {\n",
       "        text-align: right;\n",
       "    }\n",
       "</style>\n",
       "<table border=\"1\" class=\"dataframe\">\n",
       "  <thead>\n",
       "    <tr style=\"text-align: right;\">\n",
       "      <th></th>\n",
       "      <th>Date</th>\n",
       "      <th>District</th>\n",
       "      <th>Address</th>\n",
       "      <th>Product</th>\n",
       "      <th>Weekday</th>\n",
       "      <th>Sales_2</th>\n",
       "      <th>Returns_2</th>\n",
       "      <th>Sales_3</th>\n",
       "      <th>Returns_3</th>\n",
       "      <th>Sales_4</th>\n",
       "      <th>...</th>\n",
       "      <th>Median_sales_in_week</th>\n",
       "      <th>Mean_sales_in_3_weeks</th>\n",
       "      <th>Median_sales_in_3_weeks</th>\n",
       "      <th>No_sales_in_week</th>\n",
       "      <th>No_returns_in_week</th>\n",
       "      <th>Total_sales_in_week</th>\n",
       "      <th>Mean_returns_in_week</th>\n",
       "      <th>Mean_returns_in_3_weeks</th>\n",
       "      <th>isAnomaly</th>\n",
       "      <th>Predict</th>\n",
       "    </tr>\n",
       "  </thead>\n",
       "  <tbody>\n",
       "    <tr>\n",
       "      <th>30</th>\n",
       "      <td>2024-08-07</td>\n",
       "      <td>46 маршрут</td>\n",
       "      <td>ТОО \"SALEKZ\" ул.Мухамедханова д.19</td>\n",
       "      <td>01. Сэндвич \"Классический\"</td>\n",
       "      <td>2</td>\n",
       "      <td>0.0</td>\n",
       "      <td>0.0</td>\n",
       "      <td>3.0</td>\n",
       "      <td>0.0</td>\n",
       "      <td>3.0</td>\n",
       "      <td>...</td>\n",
       "      <td>1.5</td>\n",
       "      <td>1.666667</td>\n",
       "      <td>2.0</td>\n",
       "      <td>False</td>\n",
       "      <td>True</td>\n",
       "      <td>9.0</td>\n",
       "      <td>0.000000</td>\n",
       "      <td>0.000000</td>\n",
       "      <td>False</td>\n",
       "      <td>3.0</td>\n",
       "    </tr>\n",
       "    <tr>\n",
       "      <th>65</th>\n",
       "      <td>2024-08-07</td>\n",
       "      <td>46 маршрут</td>\n",
       "      <td>ТОО \"SALEKZ\" ул.Мухамедханова д.19</td>\n",
       "      <td>02. Сэндвич \"С курицей\"</td>\n",
       "      <td>2</td>\n",
       "      <td>0.0</td>\n",
       "      <td>0.0</td>\n",
       "      <td>5.0</td>\n",
       "      <td>1.0</td>\n",
       "      <td>5.0</td>\n",
       "      <td>...</td>\n",
       "      <td>2.5</td>\n",
       "      <td>3.333333</td>\n",
       "      <td>5.0</td>\n",
       "      <td>False</td>\n",
       "      <td>False</td>\n",
       "      <td>15.0</td>\n",
       "      <td>0.166667</td>\n",
       "      <td>0.000000</td>\n",
       "      <td>False</td>\n",
       "      <td>5.0</td>\n",
       "    </tr>\n",
       "    <tr>\n",
       "      <th>100</th>\n",
       "      <td>2024-08-07</td>\n",
       "      <td>46 маршрут</td>\n",
       "      <td>ТОО \"SALEKZ\" ул.Мухамедханова д.19</td>\n",
       "      <td>03. Сэндвич Сырный Соус</td>\n",
       "      <td>2</td>\n",
       "      <td>0.0</td>\n",
       "      <td>0.0</td>\n",
       "      <td>5.0</td>\n",
       "      <td>0.0</td>\n",
       "      <td>4.0</td>\n",
       "      <td>...</td>\n",
       "      <td>2.0</td>\n",
       "      <td>3.333333</td>\n",
       "      <td>5.0</td>\n",
       "      <td>False</td>\n",
       "      <td>False</td>\n",
       "      <td>14.0</td>\n",
       "      <td>0.166667</td>\n",
       "      <td>0.000000</td>\n",
       "      <td>False</td>\n",
       "      <td>5.0</td>\n",
       "    </tr>\n",
       "    <tr>\n",
       "      <th>135</th>\n",
       "      <td>2024-08-07</td>\n",
       "      <td>46 маршрут</td>\n",
       "      <td>ТОО \"SALEKZ\" ул.Мухамедханова д.19</td>\n",
       "      <td>04. Сэндвич \"PICNIC\"</td>\n",
       "      <td>2</td>\n",
       "      <td>0.0</td>\n",
       "      <td>0.0</td>\n",
       "      <td>3.0</td>\n",
       "      <td>2.0</td>\n",
       "      <td>3.0</td>\n",
       "      <td>...</td>\n",
       "      <td>1.5</td>\n",
       "      <td>1.666667</td>\n",
       "      <td>2.0</td>\n",
       "      <td>False</td>\n",
       "      <td>False</td>\n",
       "      <td>9.0</td>\n",
       "      <td>0.333333</td>\n",
       "      <td>0.000000</td>\n",
       "      <td>False</td>\n",
       "      <td>3.0</td>\n",
       "    </tr>\n",
       "    <tr>\n",
       "      <th>170</th>\n",
       "      <td>2024-08-07</td>\n",
       "      <td>46 маршрут</td>\n",
       "      <td>ТОО \"SALEKZ\" ул.Мухамедханова д.19</td>\n",
       "      <td>06. Хот - Дог</td>\n",
       "      <td>2</td>\n",
       "      <td>0.0</td>\n",
       "      <td>0.0</td>\n",
       "      <td>0.0</td>\n",
       "      <td>1.0</td>\n",
       "      <td>1.0</td>\n",
       "      <td>...</td>\n",
       "      <td>0.0</td>\n",
       "      <td>1.333333</td>\n",
       "      <td>2.0</td>\n",
       "      <td>False</td>\n",
       "      <td>False</td>\n",
       "      <td>3.0</td>\n",
       "      <td>0.333333</td>\n",
       "      <td>0.000000</td>\n",
       "      <td>False</td>\n",
       "      <td>2.0</td>\n",
       "    </tr>\n",
       "    <tr>\n",
       "      <th>...</th>\n",
       "      <td>...</td>\n",
       "      <td>...</td>\n",
       "      <td>...</td>\n",
       "      <td>...</td>\n",
       "      <td>...</td>\n",
       "      <td>...</td>\n",
       "      <td>...</td>\n",
       "      <td>...</td>\n",
       "      <td>...</td>\n",
       "      <td>...</td>\n",
       "      <td>...</td>\n",
       "      <td>...</td>\n",
       "      <td>...</td>\n",
       "      <td>...</td>\n",
       "      <td>...</td>\n",
       "      <td>...</td>\n",
       "      <td>...</td>\n",
       "      <td>...</td>\n",
       "      <td>...</td>\n",
       "      <td>...</td>\n",
       "      <td>...</td>\n",
       "    </tr>\n",
       "    <tr>\n",
       "      <th>953874</th>\n",
       "      <td>2024-08-07</td>\n",
       "      <td>50 маршрут</td>\n",
       "      <td>№1, ул.Туркестан 10</td>\n",
       "      <td>04. Сэндвич \"PICNIC\"</td>\n",
       "      <td>2</td>\n",
       "      <td>0.0</td>\n",
       "      <td>0.0</td>\n",
       "      <td>5.0</td>\n",
       "      <td>0.0</td>\n",
       "      <td>5.0</td>\n",
       "      <td>...</td>\n",
       "      <td>2.5</td>\n",
       "      <td>5.000000</td>\n",
       "      <td>5.0</td>\n",
       "      <td>False</td>\n",
       "      <td>True</td>\n",
       "      <td>15.0</td>\n",
       "      <td>0.000000</td>\n",
       "      <td>2.666667</td>\n",
       "      <td>False</td>\n",
       "      <td>5.0</td>\n",
       "    </tr>\n",
       "    <tr>\n",
       "      <th>953909</th>\n",
       "      <td>2024-08-07</td>\n",
       "      <td>50 маршрут</td>\n",
       "      <td>№1, ул.Туркестан 10</td>\n",
       "      <td>06. Хот - Дог</td>\n",
       "      <td>2</td>\n",
       "      <td>0.0</td>\n",
       "      <td>0.0</td>\n",
       "      <td>3.0</td>\n",
       "      <td>0.0</td>\n",
       "      <td>3.0</td>\n",
       "      <td>...</td>\n",
       "      <td>0.0</td>\n",
       "      <td>0.000000</td>\n",
       "      <td>0.0</td>\n",
       "      <td>False</td>\n",
       "      <td>True</td>\n",
       "      <td>6.0</td>\n",
       "      <td>0.000000</td>\n",
       "      <td>0.000000</td>\n",
       "      <td>False</td>\n",
       "      <td>0.0</td>\n",
       "    </tr>\n",
       "    <tr>\n",
       "      <th>953944</th>\n",
       "      <td>2024-08-07</td>\n",
       "      <td>50 маршрут</td>\n",
       "      <td>№1, ул.Туркестан 10</td>\n",
       "      <td>08. Гамбургер с котлетой</td>\n",
       "      <td>2</td>\n",
       "      <td>0.0</td>\n",
       "      <td>0.0</td>\n",
       "      <td>3.0</td>\n",
       "      <td>0.0</td>\n",
       "      <td>3.0</td>\n",
       "      <td>...</td>\n",
       "      <td>0.0</td>\n",
       "      <td>0.000000</td>\n",
       "      <td>0.0</td>\n",
       "      <td>False</td>\n",
       "      <td>True</td>\n",
       "      <td>6.0</td>\n",
       "      <td>0.000000</td>\n",
       "      <td>0.000000</td>\n",
       "      <td>False</td>\n",
       "      <td>0.0</td>\n",
       "    </tr>\n",
       "    <tr>\n",
       "      <th>953979</th>\n",
       "      <td>2024-08-07</td>\n",
       "      <td>50 маршрут</td>\n",
       "      <td>№1, ул.Туркестан 10</td>\n",
       "      <td>18. Лаваш</td>\n",
       "      <td>2</td>\n",
       "      <td>0.0</td>\n",
       "      <td>0.0</td>\n",
       "      <td>0.0</td>\n",
       "      <td>0.0</td>\n",
       "      <td>0.0</td>\n",
       "      <td>...</td>\n",
       "      <td>0.0</td>\n",
       "      <td>0.000000</td>\n",
       "      <td>0.0</td>\n",
       "      <td>False</td>\n",
       "      <td>True</td>\n",
       "      <td>10.0</td>\n",
       "      <td>0.000000</td>\n",
       "      <td>0.000000</td>\n",
       "      <td>False</td>\n",
       "      <td>0.0</td>\n",
       "    </tr>\n",
       "    <tr>\n",
       "      <th>954014</th>\n",
       "      <td>2024-08-07</td>\n",
       "      <td>50 маршрут</td>\n",
       "      <td>№1, ул.Туркестан 10</td>\n",
       "      <td>29. Burrito стрипсы</td>\n",
       "      <td>2</td>\n",
       "      <td>0.0</td>\n",
       "      <td>0.0</td>\n",
       "      <td>0.0</td>\n",
       "      <td>0.0</td>\n",
       "      <td>2.0</td>\n",
       "      <td>...</td>\n",
       "      <td>0.0</td>\n",
       "      <td>0.000000</td>\n",
       "      <td>0.0</td>\n",
       "      <td>False</td>\n",
       "      <td>False</td>\n",
       "      <td>2.0</td>\n",
       "      <td>0.166667</td>\n",
       "      <td>0.000000</td>\n",
       "      <td>False</td>\n",
       "      <td>0.0</td>\n",
       "    </tr>\n",
       "  </tbody>\n",
       "</table>\n",
       "<p>27245 rows × 33 columns</p>\n",
       "</div>"
      ],
      "text/plain": [
       "             Date    District                              Address  \\\n",
       "30     2024-08-07  46 маршрут   ТОО \"SALEKZ\" ул.Мухамедханова д.19   \n",
       "65     2024-08-07  46 маршрут   ТОО \"SALEKZ\" ул.Мухамедханова д.19   \n",
       "100    2024-08-07  46 маршрут   ТОО \"SALEKZ\" ул.Мухамедханова д.19   \n",
       "135    2024-08-07  46 маршрут   ТОО \"SALEKZ\" ул.Мухамедханова д.19   \n",
       "170    2024-08-07  46 маршрут   ТОО \"SALEKZ\" ул.Мухамедханова д.19   \n",
       "...           ...         ...                                  ...   \n",
       "953874 2024-08-07  50 маршрут                  №1, ул.Туркестан 10   \n",
       "953909 2024-08-07  50 маршрут                  №1, ул.Туркестан 10   \n",
       "953944 2024-08-07  50 маршрут                  №1, ул.Туркестан 10   \n",
       "953979 2024-08-07  50 маршрут                  №1, ул.Туркестан 10   \n",
       "954014 2024-08-07  50 маршрут                  №1, ул.Туркестан 10   \n",
       "\n",
       "                           Product  Weekday  Sales_2  Returns_2  Sales_3  \\\n",
       "30      01. Сэндвич \"Классический\"        2      0.0        0.0      3.0   \n",
       "65         02. Сэндвич \"С курицей\"        2      0.0        0.0      5.0   \n",
       "100        03. Сэндвич Сырный Соус        2      0.0        0.0      5.0   \n",
       "135           04. Сэндвич \"PICNIC\"        2      0.0        0.0      3.0   \n",
       "170                  06. Хот - Дог        2      0.0        0.0      0.0   \n",
       "...                            ...      ...      ...        ...      ...   \n",
       "953874        04. Сэндвич \"PICNIC\"        2      0.0        0.0      5.0   \n",
       "953909               06. Хот - Дог        2      0.0        0.0      3.0   \n",
       "953944    08. Гамбургер с котлетой        2      0.0        0.0      3.0   \n",
       "953979                   18. Лаваш        2      0.0        0.0      0.0   \n",
       "954014         29. Burrito стрипсы        2      0.0        0.0      0.0   \n",
       "\n",
       "        Returns_3  Sales_4  ...  Median_sales_in_week  Mean_sales_in_3_weeks  \\\n",
       "30            0.0      3.0  ...                   1.5               1.666667   \n",
       "65            1.0      5.0  ...                   2.5               3.333333   \n",
       "100           0.0      4.0  ...                   2.0               3.333333   \n",
       "135           2.0      3.0  ...                   1.5               1.666667   \n",
       "170           1.0      1.0  ...                   0.0               1.333333   \n",
       "...           ...      ...  ...                   ...                    ...   \n",
       "953874        0.0      5.0  ...                   2.5               5.000000   \n",
       "953909        0.0      3.0  ...                   0.0               0.000000   \n",
       "953944        0.0      3.0  ...                   0.0               0.000000   \n",
       "953979        0.0      0.0  ...                   0.0               0.000000   \n",
       "954014        0.0      2.0  ...                   0.0               0.000000   \n",
       "\n",
       "        Median_sales_in_3_weeks  No_sales_in_week  No_returns_in_week  \\\n",
       "30                          2.0             False                True   \n",
       "65                          5.0             False               False   \n",
       "100                         5.0             False               False   \n",
       "135                         2.0             False               False   \n",
       "170                         2.0             False               False   \n",
       "...                         ...               ...                 ...   \n",
       "953874                      5.0             False                True   \n",
       "953909                      0.0             False                True   \n",
       "953944                      0.0             False                True   \n",
       "953979                      0.0             False                True   \n",
       "954014                      0.0             False               False   \n",
       "\n",
       "        Total_sales_in_week  Mean_returns_in_week  Mean_returns_in_3_weeks  \\\n",
       "30                      9.0              0.000000                 0.000000   \n",
       "65                     15.0              0.166667                 0.000000   \n",
       "100                    14.0              0.166667                 0.000000   \n",
       "135                     9.0              0.333333                 0.000000   \n",
       "170                     3.0              0.333333                 0.000000   \n",
       "...                     ...                   ...                      ...   \n",
       "953874                 15.0              0.000000                 2.666667   \n",
       "953909                  6.0              0.000000                 0.000000   \n",
       "953944                  6.0              0.000000                 0.000000   \n",
       "953979                 10.0              0.000000                 0.000000   \n",
       "954014                  2.0              0.166667                 0.000000   \n",
       "\n",
       "        isAnomaly  Predict  \n",
       "30          False      3.0  \n",
       "65          False      5.0  \n",
       "100         False      5.0  \n",
       "135         False      3.0  \n",
       "170         False      2.0  \n",
       "...           ...      ...  \n",
       "953874      False      5.0  \n",
       "953909      False      0.0  \n",
       "953944      False      0.0  \n",
       "953979      False      0.0  \n",
       "954014      False      0.0  \n",
       "\n",
       "[27245 rows x 33 columns]"
      ]
     },
     "execution_count": 36,
     "metadata": {},
     "output_type": "execute_result"
    }
   ],
   "source": [
    "limit_date_to_predict = main_DF.sort_values('Date')['Date'].iloc[-1] - timedelta(days=5)\n",
    "condition = (main_DF['Date'] == limit_date_to_predict)\n",
    "\n",
    "predict_DF = main_DF[condition].drop(['Sales', 'Returns'], axis=1)\n",
    "predict_DF['Predict'] = predict_DF['Sales_7']\n",
    "predict_DF['Delivered_7'] = predict_DF['Sales_7'] + predict_DF['Returns_7']\n",
    "\n",
    "predict_DF"
   ]
  },
  {
   "cell_type": "markdown",
   "id": "05f866c3",
   "metadata": {},
   "source": [
    "### TREND AND WEATHER FUNCTIONS"
   ]
  },
  {
   "cell_type": "code",
   "execution_count": 37,
   "id": "4e843114",
   "metadata": {},
   "outputs": [],
   "source": [
    "def calculate_trend(data):\n",
    "    y1, y2, y3 = data[0], data[1], data[2]\n",
    "    trend = ((y3 - y2) + (y2 - y1)) / 2\n",
    "    \n",
    "    return trend"
   ]
  },
  {
   "cell_type": "code",
   "execution_count": 38,
   "id": "9e7ce9a4",
   "metadata": {},
   "outputs": [],
   "source": [
    "def parse_weather_forecast():\n",
    "    HEADERS = {\n",
    "        \"user-agent\": \"Mozilla/5.0 (Linux; Android 6.0; Nexus 5 Build/MRA58N) AppleWebKit/537.36 (KHTML, like Gecko) Chrome/93.0.4577.82 Mobile Safari/537.36\",\n",
    "        \"accept\": \"*/*\"\n",
    "    }\n",
    "\n",
    "    URL = \"https://www.gismeteo.kz/weather-astana-5164/10-days/\"\n",
    "    r = requests.get(URL, headers=HEADERS)\n",
    "    soup = BeautifulSoup(r.text, 'html.parser')\n",
    "\n",
    "    date_range = pd.date_range(start=datetime.now().date(), end=(datetime.now() + timedelta(days=9)).date())\n",
    "\n",
    "    temperature_container = soup.find(\"div\", class_=\"widget-row-chart widget-row-chart-temperature-air row-with-caption\")\n",
    "    temperature_elements = temperature_container.find_all(\"temperature-value\") # type: ignore\n",
    "    temperature_values = [temp['value'] for temp in temperature_elements if 'value' in temp.attrs]\n",
    "    temperature_values = [int(temp) for temp in temperature_values][0::2]\n",
    "\n",
    "    wind_speed_container = soup.find(\"div\", class_=\"widget-row widget-row-wind row-wind-gust row-with-caption\")\n",
    "    wind_speed_elements = wind_speed_container.find_all(\"speed-value\") # type: ignore\n",
    "    wind_speed_values = [temp['value'] for temp in wind_speed_elements if 'value' in temp.attrs]\n",
    "    wind_speed_values = [int(temp) for temp in wind_speed_values]\n",
    "\n",
    "    humidity_container = soup.find(\"div\", class_=\"widget-row widget-row-precipitation-bars row-with-caption\")\n",
    "    humidity_elements = humidity_container.find_all(\"div\", class_= \"row-item\")\n",
    "\n",
    "    humidity_values_uncleaned = [item.text for item in humidity_elements]\n",
    "\n",
    "    humidity_values = []\n",
    "    for temp in humidity_values_uncleaned:\n",
    "        value_str = temp.strip().replace(',', '.')\n",
    "\n",
    "        if value_str:\n",
    "            humidity_values.append(float(value_str))\n",
    "\n",
    "    weather_DF = pd.DataFrame({\n",
    "        'Date': date_range,\n",
    "        'Temperature': temperature_values,\n",
    "        'Wind_speed': wind_speed_values,\n",
    "        'Humidity': humidity_values\n",
    "    })\n",
    "    \n",
    "    return weather_DF"
   ]
  },
  {
   "cell_type": "code",
   "execution_count": 39,
   "id": "e103ffc9",
   "metadata": {},
   "outputs": [],
   "source": [
    "def parse_weather_past():\n",
    "    weather_past_DF = pd.read_excel(f\"temp/weather/{os.listdir('temp/weather')[0]}\", skiprows=6)\n",
    "    weather_past_DF = weather_past_DF[['Местное время в Астане', 'T', 'Ff', 'U']]\n",
    "\n",
    "    weather_past_DF.rename({\n",
    "        'Местное время в Астане': 'Date',\n",
    "        'T': 'Temperature',\n",
    "        'Ff': 'wind_speed_values',\n",
    "        'U': 'humidity_values'\n",
    "    }, axis=1, inplace=True)\n",
    "\n",
    "    weather_past_DF['Date'] = pd.to_datetime(weather_past_DF['Date'], dayfirst=True)\n",
    "    weather_past_DF['Time'] = (weather_past_DF['Date'].dt.time).astype(str)\n",
    "    \n",
    "    time_to_filter = ['08:00:00', '11:00:00', '14:00:00', '17:00:00', '20:00:00']\n",
    "    weather_past_DF = weather_past_DF[weather_past_DF['Time'].isin(time_to_filter)]\n",
    "    weather_past_DF['Date'] = weather_past_DF['Date'].dt.date\n",
    "    weather_past_DF = weather_past_DF.drop('Time', axis=1)\n",
    "\n",
    "    weather_past_DF = weather_past_DF.groupby('Date').mean().reset_index()\n",
    "    \n",
    "    return weather_past_DF"
   ]
  },
  {
   "cell_type": "code",
   "execution_count": 40,
   "id": "31bf5a3e",
   "metadata": {},
   "outputs": [],
   "source": [
    "predict_DF['Trend'] = predict_DF[['Sales_21', 'Sales_14', 'Sales_7']].apply(calculate_trend, axis=1)"
   ]
  },
  {
   "cell_type": "code",
   "execution_count": 41,
   "id": "1a2d6c35",
   "metadata": {},
   "outputs": [],
   "source": [
    "weather_past_DF = parse_weather_past()\n",
    "weather_past_DF['Date'] = pd.to_datetime(weather_past_DF['Date'], dayfirst=True)"
   ]
  },
  {
   "cell_type": "code",
   "execution_count": 42,
   "id": "d7966ea2",
   "metadata": {},
   "outputs": [],
   "source": [
    "# weather_DF = parse_weather_forecast()\n",
    "# predict_DF = predict_DF.merge(weather_DF, on='Date', how='left')"
   ]
  },
  {
   "cell_type": "markdown",
   "id": "096340c1",
   "metadata": {},
   "source": [
    "### MATH MODEL FORMULA"
   ]
  },
  {
   "cell_type": "code",
   "execution_count": 43,
   "id": "3ee8c246",
   "metadata": {},
   "outputs": [],
   "source": [
    "predict_DF.fillna(0, inplace=True)"
   ]
  },
  {
   "cell_type": "code",
   "execution_count": 46,
   "id": "48f0f869",
   "metadata": {},
   "outputs": [],
   "source": [
    "def categorize_sales(value):\n",
    "    if value == 0:\n",
    "        return 'A'\n",
    "    elif 0 < value <= 10:\n",
    "        return 'B'\n",
    "    elif 11 < value <= 20:\n",
    "        return 'C'\n",
    "    elif 21 < value <= 30:\n",
    "        return 'D'\n",
    "    elif 31 < value:\n",
    "        return 'E'\n",
    "    else:\n",
    "        return None\n",
    "    \n",
    "predict_DF['Sales_7_category'] = predict_DF['Sales_7'].apply(categorize_sales)"
   ]
  },
  {
   "cell_type": "code",
   "execution_count": 62,
   "id": "019edfd7",
   "metadata": {},
   "outputs": [],
   "source": [
    "def increase_predict(data):\n",
    "    if data['Sales_7_category'] == 'A':\n",
    "        return 1\n",
    "    \n",
    "    elif data['Sales_7_category'] == 'B':\n",
    "        return data['Predict'] + 1\n",
    "    \n",
    "    elif data['Sales_7_category'] == 'C':\n",
    "        return data['Predict'] + 2\n",
    "    \n",
    "    elif data['Sales_7_category'] == 'D':\n",
    "        return data['Predict'] * 1.1\n",
    "    \n",
    "    elif data['Sales_7_category'] == 'E':\n",
    "        return data['Predict'] * 1.08\n",
    "    \n",
    "    \n",
    "def decrease_predict(data):\n",
    "    if data['Sales_7_category'] == 'A':\n",
    "        return 1\n",
    "\n",
    "    elif data['Sales_7_category'] == 'B':\n",
    "        return data['Predict'] - 1\n",
    "    \n",
    "    elif data['Sales_7_category'] == 'C':\n",
    "        return data['Predict'] - 2\n",
    "    \n",
    "    elif data['Sales_7_category'] == 'D':\n",
    "        return data['Predict'] / 1.1\n",
    "    \n",
    "    elif data['Sales_7_category'] == 'E':\n",
    "        return data['Predict'] / 1.08"
   ]
  },
  {
   "cell_type": "code",
   "execution_count": 77,
   "id": "41c26cf7",
   "metadata": {},
   "outputs": [
    {
     "data": {
      "text/plain": [
       "(27245, 35)"
      ]
     },
     "execution_count": 77,
     "metadata": {},
     "output_type": "execute_result"
    }
   ],
   "source": [
    "predict_DF.shape"
   ]
  },
  {
   "cell_type": "code",
   "execution_count": 76,
   "id": "06dc1518",
   "metadata": {},
   "outputs": [
    {
     "name": "stdout",
     "output_type": "stream",
     "text": [
      "(947, 35)\n"
     ]
    }
   ],
   "source": [
    "# TREND UP, RETURNS UP, PREDICT UP\n",
    "condition = (predict_DF['Trend'] > 0) & (predict_DF['Returns_percentage'] > 0.1)\n",
    "predict_DF.loc[condition, 'Predict'] = predict_DF[condition][['Predict', 'Sales_7_category']].apply(increase_predict, axis=1)\n",
    "\n",
    "print(predict_DF[condition].shape)"
   ]
  },
  {
   "cell_type": "code",
   "execution_count": 78,
   "id": "97022c9a",
   "metadata": {},
   "outputs": [
    {
     "name": "stdout",
     "output_type": "stream",
     "text": [
      "(7559, 35)\n"
     ]
    }
   ],
   "source": [
    "# TREND DOWN, RETURNS DOWN, PREDICT UP\n",
    "condition = (predict_DF['Trend'] < 0) & (predict_DF['Returns_percentage'] < 0.08)\n",
    "predict_DF.loc[condition, 'Predict'] = predict_DF[condition][['Predict', 'Sales_7_category']].apply(increase_predict, axis=1)\n",
    "\n",
    "print(predict_DF[condition].shape)"
   ]
  },
  {
   "cell_type": "code",
   "execution_count": 79,
   "id": "5f002f6a",
   "metadata": {},
   "outputs": [
    {
     "name": "stdout",
     "output_type": "stream",
     "text": [
      "(6585, 35)\n"
     ]
    }
   ],
   "source": [
    "# TREND UP, RETURNS DOWN, PREDICT UP\n",
    "condition = (predict_DF['Trend'] > 0) & (predict_DF['Returns_percentage'] < 0.08)\n",
    "predict_DF.loc[condition, 'Predict'] = predict_DF[condition][['Predict', 'Sales_7_category']].apply(increase_predict, axis=1)\n",
    "\n",
    "print(predict_DF[condition].shape)"
   ]
  },
  {
   "cell_type": "code",
   "execution_count": 80,
   "id": "afe6a598",
   "metadata": {},
   "outputs": [
    {
     "name": "stdout",
     "output_type": "stream",
     "text": [
      "(1243, 35)\n"
     ]
    }
   ],
   "source": [
    "# TREND DOWN, RETURNS UP, PREDICT UP\n",
    "condition = (predict_DF['Trend'] < 0) & (predict_DF['Returns_percentage'] > 0.1)\n",
    "predict_DF.loc[condition, 'Predict'] = predict_DF[condition][['Predict', 'Sales_7_category']].apply(decrease_predict, axis=1)\n",
    "\n",
    "print(predict_DF[condition].shape)"
   ]
  },
  {
   "cell_type": "code",
   "execution_count": 88,
   "id": "0bbd9045",
   "metadata": {},
   "outputs": [
    {
     "data": {
      "text/plain": [
       "(9, 36)"
      ]
     },
     "execution_count": 88,
     "metadata": {},
     "output_type": "execute_result"
    }
   ],
   "source": [
    "# NO TREND, RETURNS 8-10%, REMAINS THE SAME\n",
    "condition = (predict_DF['Trend'] == 0) & (predict_DF['Returns_percentage'] >= 0.08) & (predict_DF['Returns_percentage'] <= 0.1)\n",
    "predict_DF.loc[condition, 'Predict'] = predict_DF.loc[condition, 'Delivered_7']\n",
    "\n",
    "predict_DF.loc[condition].shape"
   ]
  },
  {
   "cell_type": "code",
   "execution_count": 90,
   "id": "2ce3ebb5",
   "metadata": {},
   "outputs": [
    {
     "data": {
      "text/plain": [
       "(10002, 36)"
      ]
     },
     "execution_count": 90,
     "metadata": {},
     "output_type": "execute_result"
    }
   ],
   "source": [
    "# NO TREND, RETURNS DOWN, PREDICT UP\n",
    "condition = (predict_DF['Trend'] == 0) & (predict_DF['Returns_percentage'] < 0.08)\n",
    "predict_DF.loc[condition, 'Predict'] = predict_DF[condition][['Predict', 'Sales_7_category']].apply(increase_predict, axis=1)\n",
    "\n",
    "predict_DF.loc[condition].shape"
   ]
  },
  {
   "cell_type": "code",
   "execution_count": 91,
   "id": "b8dd2b4e",
   "metadata": {},
   "outputs": [
    {
     "data": {
      "text/plain": [
       "(859, 36)"
      ]
     },
     "execution_count": 91,
     "metadata": {},
     "output_type": "execute_result"
    }
   ],
   "source": [
    "# NO TREND, RETURNS UP, PREDICT DOWN\n",
    "condition = (predict_DF['Trend'] == 0) & (predict_DF['Returns_percentage'] > 0.1)\n",
    "predict_DF.loc[condition, 'Predict'] = predict_DF[condition][['Predict', 'Sales_7_category']].apply(decrease_predict, axis=1)\n",
    "\n",
    "predict_DF.loc[condition].shape"
   ]
  },
  {
   "cell_type": "code",
   "execution_count": 92,
   "id": "d29f7583",
   "metadata": {},
   "outputs": [
    {
     "data": {
      "text/plain": [
       "(38, 36)"
      ]
     },
     "execution_count": 92,
     "metadata": {},
     "output_type": "execute_result"
    }
   ],
   "source": [
    "# TREND UP, RETURNS 8-10%, PREDICT UP\n",
    "condition = (predict_DF['Trend'] > 0) & (predict_DF['Returns_percentage'] >= 0.08) & (predict_DF['Returns_percentage'] <= 0.1)\n",
    "predict_DF.loc[condition, 'Predict'] = predict_DF[condition][['Predict', 'Sales_7_category']].apply(increase_predict, axis=1)\n",
    "\n",
    "predict_DF.loc[condition].shape"
   ]
  },
  {
   "cell_type": "code",
   "execution_count": 93,
   "id": "f8b85ab6",
   "metadata": {},
   "outputs": [
    {
     "data": {
      "text/plain": [
       "(3, 36)"
      ]
     },
     "execution_count": 93,
     "metadata": {},
     "output_type": "execute_result"
    }
   ],
   "source": [
    "# TREND UP, RETURNS 8-10%, PREDICT UP\n",
    "condition = (predict_DF['Trend'] < 0) & (predict_DF['Returns_percentage'] >= 0.08) & (predict_DF['Returns_percentage'] <= 0.1)\n",
    "predict_DF.loc[condition, 'Predict'] = predict_DF[condition][['Predict', 'Sales_7_category']].apply(decrease_predict, axis=1)\n",
    "\n",
    "predict_DF.loc[condition].shape"
   ]
  }
 ],
 "metadata": {
  "kernelspec": {
   "display_name": "tf",
   "language": "python",
   "name": "tf"
  },
  "language_info": {
   "codemirror_mode": {
    "name": "ipython",
    "version": 3
   },
   "file_extension": ".py",
   "mimetype": "text/x-python",
   "name": "python",
   "nbconvert_exporter": "python",
   "pygments_lexer": "ipython3",
   "version": "3.11.3"
  }
 },
 "nbformat": 4,
 "nbformat_minor": 5
}
